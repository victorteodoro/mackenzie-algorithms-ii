{
 "cells": [
  {
   "cell_type": "markdown",
   "metadata": {},
   "source": [
    "# Recursão\n"
   ]
  },
  {
   "cell_type": "markdown",
   "metadata": {},
   "source": [
    "## Aplicando conhecimento\n",
    "\n",
    "Faça um código que gere o Triângulo de Pascal recursivo.\n"
   ]
  },
  {
   "cell_type": "code",
   "execution_count": 2,
   "metadata": {},
   "outputs": [
    {
     "name": "stdout",
     "output_type": "stream",
     "text": [
      "             1             \n",
      "            1 1            \n",
      "           1 2 1           \n",
      "          1 3 3 1          \n",
      "         1 4 6 4 1         \n",
      "       1 5 10 10 5 1       \n",
      "      1 6 15 20 15 6 1     \n",
      "    1 7 21 35 35 21 7 1    \n",
      "   1 8 28 56 70 56 28 8 1  \n",
      "1 9 36 84 126 126 84 36 9 1\n"
     ]
    }
   ],
   "source": [
    "def generate_pascal_triangle(n):\n",
    "    if n == 1:\n",
    "        return [[1]]\n",
    "    else:\n",
    "        previous_triangle = generate_pascal_triangle(n - 1)\n",
    "        last_row = previous_triangle[-1]\n",
    "        new_row = [1]\n",
    "        for i in range(1, len(last_row)):\n",
    "            new_row.append(last_row[i - 1] + last_row[i])\n",
    "        new_row.append(1)\n",
    "        previous_triangle.append(new_row)\n",
    "        return previous_triangle\n",
    "\n",
    "\n",
    "def print_pascal_triangle(triangle):\n",
    "    max_width = len(' '.join(map(str, triangle[-1])))\n",
    "    for row in triangle:\n",
    "        print(' '.join(map(str, row)).center(max_width))\n",
    "\n",
    "\n",
    "n = 10\n",
    "pascal_triangle = generate_pascal_triangle(n)\n",
    "print_pascal_triangle(pascal_triangle)"
   ]
  }
 ],
 "metadata": {
  "kernelspec": {
   "display_name": "alg-ii",
   "language": "python",
   "name": "python3"
  },
  "language_info": {
   "codemirror_mode": {
    "name": "ipython",
    "version": 3
   },
   "file_extension": ".py",
   "mimetype": "text/x-python",
   "name": "python",
   "nbconvert_exporter": "python",
   "pygments_lexer": "ipython3",
   "version": "3.12.0"
  }
 },
 "nbformat": 4,
 "nbformat_minor": 2
}
