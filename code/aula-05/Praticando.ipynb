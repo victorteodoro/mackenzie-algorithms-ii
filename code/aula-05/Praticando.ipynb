{
 "cells": [
  {
   "cell_type": "markdown",
   "metadata": {},
   "source": [
    "# Recursão"
   ]
  },
  {
   "cell_type": "markdown",
   "metadata": {},
   "source": [
    "## Exercises"
   ]
  },
  {
   "cell_type": "markdown",
   "metadata": {},
   "source": [
    "Faça um programa que some todos os números de 1 a n, de forma recursiva. "
   ]
  },
  {
   "cell_type": "code",
   "execution_count": 8,
   "metadata": {},
   "outputs": [],
   "source": [
    "from functools import cache\n",
    "\n",
    "@cache\n",
    "def soma(n):\n",
    "    return n if n == 0 else n + soma(n - 1)"
   ]
  },
  {
   "cell_type": "code",
   "execution_count": 9,
   "metadata": {},
   "outputs": [
    {
     "name": "stdout",
     "output_type": "stream",
     "text": [
      "A soma de 1 até 1 é:\t 1\n",
      "A soma de 1 até 2 é:\t 3\n",
      "A soma de 1 até 3 é:\t 6\n",
      "A soma de 1 até 4 é:\t 10\n",
      "A soma de 1 até 5 é:\t 15\n",
      "A soma de 1 até 6 é:\t 21\n",
      "A soma de 1 até 7 é:\t 28\n",
      "A soma de 1 até 8 é:\t 36\n",
      "A soma de 1 até 9 é:\t 45\n",
      "A soma de 1 até 10 é:\t 55\n",
      "A soma de 1 até 11 é:\t 66\n",
      "A soma de 1 até 12 é:\t 78\n",
      "A soma de 1 até 13 é:\t 91\n",
      "A soma de 1 até 14 é:\t 105\n",
      "A soma de 1 até 15 é:\t 120\n",
      "A soma de 1 até 16 é:\t 136\n",
      "A soma de 1 até 17 é:\t 153\n",
      "A soma de 1 até 18 é:\t 171\n",
      "A soma de 1 até 19 é:\t 190\n",
      "A soma de 1 até 20 é:\t 210\n",
      "A soma de 1 até 21 é:\t 231\n",
      "A soma de 1 até 22 é:\t 253\n",
      "A soma de 1 até 23 é:\t 276\n",
      "A soma de 1 até 24 é:\t 300\n",
      "A soma de 1 até 25 é:\t 325\n",
      "A soma de 1 até 26 é:\t 351\n",
      "A soma de 1 até 27 é:\t 378\n",
      "A soma de 1 até 28 é:\t 406\n",
      "A soma de 1 até 29 é:\t 435\n",
      "A soma de 1 até 30 é:\t 465\n",
      "A soma de 1 até 31 é:\t 496\n",
      "A soma de 1 até 32 é:\t 528\n",
      "A soma de 1 até 33 é:\t 561\n",
      "A soma de 1 até 34 é:\t 595\n",
      "A soma de 1 até 35 é:\t 630\n",
      "A soma de 1 até 36 é:\t 666\n",
      "A soma de 1 até 37 é:\t 703\n",
      "A soma de 1 até 38 é:\t 741\n",
      "A soma de 1 até 39 é:\t 780\n",
      "A soma de 1 até 40 é:\t 820\n",
      "A soma de 1 até 41 é:\t 861\n",
      "A soma de 1 até 42 é:\t 903\n",
      "A soma de 1 até 43 é:\t 946\n",
      "A soma de 1 até 44 é:\t 990\n",
      "A soma de 1 até 45 é:\t 1035\n",
      "A soma de 1 até 46 é:\t 1081\n",
      "A soma de 1 até 47 é:\t 1128\n",
      "A soma de 1 até 48 é:\t 1176\n",
      "A soma de 1 até 49 é:\t 1225\n",
      "A soma de 1 até 50 é:\t 1275\n",
      "A soma de 1 até 51 é:\t 1326\n",
      "A soma de 1 até 52 é:\t 1378\n",
      "A soma de 1 até 53 é:\t 1431\n",
      "A soma de 1 até 54 é:\t 1485\n",
      "A soma de 1 até 55 é:\t 1540\n",
      "A soma de 1 até 56 é:\t 1596\n",
      "A soma de 1 até 57 é:\t 1653\n",
      "A soma de 1 até 58 é:\t 1711\n",
      "A soma de 1 até 59 é:\t 1770\n",
      "A soma de 1 até 60 é:\t 1830\n",
      "A soma de 1 até 61 é:\t 1891\n",
      "A soma de 1 até 62 é:\t 1953\n",
      "A soma de 1 até 63 é:\t 2016\n",
      "A soma de 1 até 64 é:\t 2080\n",
      "A soma de 1 até 65 é:\t 2145\n",
      "A soma de 1 até 66 é:\t 2211\n",
      "A soma de 1 até 67 é:\t 2278\n",
      "A soma de 1 até 68 é:\t 2346\n",
      "A soma de 1 até 69 é:\t 2415\n",
      "A soma de 1 até 70 é:\t 2485\n",
      "A soma de 1 até 71 é:\t 2556\n",
      "A soma de 1 até 72 é:\t 2628\n",
      "A soma de 1 até 73 é:\t 2701\n",
      "A soma de 1 até 74 é:\t 2775\n",
      "A soma de 1 até 75 é:\t 2850\n",
      "A soma de 1 até 76 é:\t 2926\n",
      "A soma de 1 até 77 é:\t 3003\n",
      "A soma de 1 até 78 é:\t 3081\n",
      "A soma de 1 até 79 é:\t 3160\n",
      "A soma de 1 até 80 é:\t 3240\n",
      "A soma de 1 até 81 é:\t 3321\n",
      "A soma de 1 até 82 é:\t 3403\n",
      "A soma de 1 até 83 é:\t 3486\n",
      "A soma de 1 até 84 é:\t 3570\n",
      "A soma de 1 até 85 é:\t 3655\n",
      "A soma de 1 até 86 é:\t 3741\n",
      "A soma de 1 até 87 é:\t 3828\n",
      "A soma de 1 até 88 é:\t 3916\n",
      "A soma de 1 até 89 é:\t 4005\n",
      "A soma de 1 até 90 é:\t 4095\n",
      "A soma de 1 até 91 é:\t 4186\n",
      "A soma de 1 até 92 é:\t 4278\n",
      "A soma de 1 até 93 é:\t 4371\n",
      "A soma de 1 até 94 é:\t 4465\n",
      "A soma de 1 até 95 é:\t 4560\n",
      "A soma de 1 até 96 é:\t 4656\n",
      "A soma de 1 até 97 é:\t 4753\n",
      "A soma de 1 até 98 é:\t 4851\n",
      "A soma de 1 até 99 é:\t 4950\n"
     ]
    }
   ],
   "source": [
    "for n in range(1, 100):\n",
    "    print(f\"A soma de 1 até {n} é:\\t {soma(n)}\")"
   ]
  }
 ],
 "metadata": {
  "kernelspec": {
   "display_name": "Python 3",
   "language": "python",
   "name": "python3"
  },
  "language_info": {
   "codemirror_mode": {
    "name": "ipython",
    "version": 3
   },
   "file_extension": ".py",
   "mimetype": "text/x-python",
   "name": "python",
   "nbconvert_exporter": "python",
   "pygments_lexer": "ipython3",
   "version": "3.12.0"
  }
 },
 "nbformat": 4,
 "nbformat_minor": 2
}
