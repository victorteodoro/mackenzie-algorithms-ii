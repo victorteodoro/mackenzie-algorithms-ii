{
 "cells": [
  {
   "cell_type": "markdown",
   "metadata": {},
   "source": [
    "# Recursão - Aula 6\n",
    "\n",
    "## Aplicando conhecimento\n",
    "\n",
    "Implemente o algoritmo de Fibonacci, para n termos, recursivo, de acordo com as instruções: \n",
    "\n",
    "1. O caso base de Fibonacci é fib(1) = 1 e fib(0) = 0, pois se n <= 1, retorna n.  \n",
    "\n",
    "1. Se o argumento da função não for igual ao caso base, ela chama a própria função com parâmetros modificados, fib(n-1) + fib(n-2).  \n",
    "\n",
    "1. Esse processo é repetido até o valor do argumento ser o caso base. \n",
    "\n",
    "Por exemplo, para cinco termos da série, sendo representada por fib(5): \n",
    "\n",
    "- fib(5) chama fib(4) e fib(3) \n",
    "\n",
    "- fib(4) chama fib(3) e fib(2) \n",
    "\n",
    "- fib(3) chama fib(2) e fib(1) \n",
    "\n",
    "- fib(2) chama fib(1) + fib(0), então encontra o caso base. \n",
    "\n",
    "Esta atividade vale 1,0 ponto.  \n"
   ]
  },
  {
   "cell_type": "code",
   "execution_count": 3,
   "metadata": {},
   "outputs": [
    {
     "name": "stdout",
     "output_type": "stream",
     "text": [
      "O 0-ésimo número de Fibonacci é:\t 0\n",
      "O 1-ésimo número de Fibonacci é:\t 1\n",
      "O 2-ésimo número de Fibonacci é:\t 1\n",
      "O 3-ésimo número de Fibonacci é:\t 2\n",
      "O 4-ésimo número de Fibonacci é:\t 3\n",
      "O 5-ésimo número de Fibonacci é:\t 5\n",
      "O 6-ésimo número de Fibonacci é:\t 8\n",
      "O 7-ésimo número de Fibonacci é:\t 13\n",
      "O 8-ésimo número de Fibonacci é:\t 21\n",
      "O 9-ésimo número de Fibonacci é:\t 34\n",
      "O 10-ésimo número de Fibonacci é:\t 55\n",
      "O 11-ésimo número de Fibonacci é:\t 89\n",
      "O 12-ésimo número de Fibonacci é:\t 144\n",
      "O 13-ésimo número de Fibonacci é:\t 233\n",
      "O 14-ésimo número de Fibonacci é:\t 377\n",
      "O 15-ésimo número de Fibonacci é:\t 610\n",
      "O 16-ésimo número de Fibonacci é:\t 987\n",
      "O 17-ésimo número de Fibonacci é:\t 1597\n",
      "O 18-ésimo número de Fibonacci é:\t 2584\n",
      "O 19-ésimo número de Fibonacci é:\t 4181\n"
     ]
    }
   ],
   "source": [
    "from functools import cache\n",
    "from numbers import Number\n",
    "\n",
    "@cache\n",
    "def fib(n: Number): return n if n < 2 else fib(n - 1) + fib(n - 2)        \n",
    "\n",
    "for n in range(20): print(f\"O {n}-ésimo número de Fibonacci é:\\t {fib(n)}\")"
   ]
  }
 ],
 "metadata": {
  "kernelspec": {
   "display_name": "alg-ii",
   "language": "python",
   "name": "python3"
  },
  "language_info": {
   "codemirror_mode": {
    "name": "ipython",
    "version": 3
   },
   "file_extension": ".py",
   "mimetype": "text/x-python",
   "name": "python",
   "nbconvert_exporter": "python",
   "pygments_lexer": "ipython3",
   "version": "3.12.0"
  }
 },
 "nbformat": 4,
 "nbformat_minor": 2
}
