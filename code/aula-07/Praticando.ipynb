{
 "cells": [
  {
   "cell_type": "markdown",
   "metadata": {},
   "source": [
    "# Sistema de arquivos - Aula 7\n",
    "\n",
    "## Praticando\n",
    "\n",
    "Crie um arquivo musica.txt com uma parte da sua música preferida (a primeira parte). Faça um programa que acesse o arquivo e insira nele o restante da música."
   ]
  },
  {
   "cell_type": "markdown",
   "metadata": {},
   "source": [
    "## Música escolhida\n",
    "\n",
    "A música escolhida por mim é Mr. Schwartz do grupo inglês Arctic Monkeys:\n",
    "\n",
    "```txt\n",
    "[Verse 1]\n",
    "Put your heavy metal to the test\n",
    "There might be half a love song in it all for you\n",
    "Timing-wise, it's probably for the best\n",
    "Come here and kiss me now before it gets too cute\n",
    "\n",
    "[Chorus]\n",
    "Mr. Schwartz is stayin' strong for the crew\n",
    "Wardrobe's lint-rollin' your velveteen suit\n",
    "And smudgin' dubbin' on your dancin' shoes\n",
    "\n",
    "[Verse 2]\n",
    "Gradually, it's coming into view\n",
    "It's like your little directorial debut\n",
    "As fine a time as any to deduce\n",
    "The fact that neither you or I has ever had a clue\n",
    "\n",
    "[Chorus]\n",
    "Mr. Schwartz is stayin' strong for the crew\n",
    "Wardrobе's lint-rollin' your velveteen suit\n",
    "And smudgin' dubbin' on your dancin' shoes\n",
    "\n",
    "[Bridge]\n",
    "And if wе guess who I'm pretending to be\n",
    "Do we win a prize?\n",
    "Having attempted twice, both incorrectly\n",
    "Do we get a third try?\n",
    "\n",
    "[Verse 3]\n",
    "The gloved hand's reachin' in to hit the switch\n",
    "There's not one goddamn thing that you can do about it\n",
    "\n",
    "[Chorus]\n",
    "Mr. Schwartz is havin' tea with the grips\n",
    "Askin' after all the wives and the kids\n",
    "It's at the heart of what the business is\n",
    "\n",
    "```"
   ]
  },
  {
   "cell_type": "code",
   "execution_count": 15,
   "metadata": {},
   "outputs": [],
   "source": [
    "from pathlib import Path\n",
    "\n",
    "\n",
    "def print_file(file_path: Path):\n",
    "    if file_path.is_file():\n",
    "        # Open and read the file\n",
    "        with file_path.open(mode='r') as file:\n",
    "            file_content = file.read()\n",
    "        \n",
    "        print(file_content)\n",
    "    else:\n",
    "        print(\"O arquivo não existe.\")\n",
    "\n",
    "def append_to_file(file_path: Path, file_content: str):\n",
    "    if file_path.is_file():\n",
    "        with file_path.open(mode='a') as file:\n",
    "            file.write(file_content)\n",
    "\n",
    "    else:\n",
    "        print(\"O arquivo não existe.\")\n",
    "\n",
    "\n",
    "file_path = Path(\"musica.txt\")\n",
    "\n",
    "rest_of_the_song = \"\"\"\n",
    "[Chorus]\n",
    "Mr. Schwartz is stayin' strong for the crew\n",
    "Wardrobe's lint-rollin' your velveteen suit\n",
    "And smudgin' dubbin' on your dancin' shoes\n",
    "\n",
    "[Verse 2]\n",
    "Gradually, it's coming into view\n",
    "It's like your little directorial debut\n",
    "As fine a time as any to deduce\n",
    "The fact that neither you or I has ever had a clue\n",
    "\n",
    "[Chorus]\n",
    "Mr. Schwartz is stayin' strong for the crew\n",
    "Wardrobе's lint-rollin' your velveteen suit\n",
    "And smudgin' dubbin' on your dancin' shoes\n",
    "\n",
    "[Bridge]\n",
    "And if wе guess who I'm pretending to be\n",
    "Do we win a prize?\n",
    "Having attempted twice, both incorrectly\n",
    "Do we get a third try?\n",
    "\n",
    "[Verse 3]\n",
    "The gloved hand's reachin' in to hit the switch\n",
    "There's not one goddamn thing that you can do about it\n",
    "\n",
    "[Chorus]\n",
    "Mr. Schwartz is havin' tea with the grips\n",
    "Askin' after all the wives and the kids\n",
    "It's at the heart of what the business is\n",
    "\"\"\""
   ]
  },
  {
   "cell_type": "markdown",
   "metadata": {},
   "source": [
    "## Testes"
   ]
  },
  {
   "cell_type": "code",
   "execution_count": 13,
   "metadata": {},
   "outputs": [
    {
     "name": "stdout",
     "output_type": "stream",
     "text": [
      "O arquivo original é:\n",
      "\n",
      "[Verse 1]\n",
      "Put your heavy metal to the test\n",
      "There might be half a love song in it all for you\n",
      "Timing-wise, it's probably for the best\n",
      "Come here and kiss me now before it gets too cute\n"
     ]
    }
   ],
   "source": [
    "print(\"O arquivo original é:\\n\")\n",
    "print_file(file_path)"
   ]
  },
  {
   "cell_type": "code",
   "execution_count": 16,
   "metadata": {},
   "outputs": [
    {
     "name": "stdout",
     "output_type": "stream",
     "text": [
      "O arquivo após a adição é:\n",
      "\n",
      "[Verse 1]\n",
      "Put your heavy metal to the test\n",
      "There might be half a love song in it all for you\n",
      "Timing-wise, it's probably for the best\n",
      "Come here and kiss me now before it gets too cute\n",
      "[Chorus]\n",
      "Mr. Schwartz is stayin' strong for the crew\n",
      "Wardrobe's lint-rollin' your velveteen suit\n",
      "And smudgin' dubbin' on your dancin' shoes\n",
      "\n",
      "[Verse 2]\n",
      "Gradually, it's coming into view\n",
      "It's like your little directorial debut\n",
      "As fine a time as any to deduce\n",
      "The fact that neither you or I has ever had a clue\n",
      "\n",
      "[Chorus]\n",
      "Mr. Schwartz is stayin' strong for the crew\n",
      "Wardrobе's lint-rollin' your velveteen suit\n",
      "And smudgin' dubbin' on your dancin' shoes\n",
      "\n",
      "[Bridge]\n",
      "And if wе guess who I'm pretending to be\n",
      "Do we win a prize?\n",
      "Having attempted twice, both incorrectly\n",
      "Do we get a third try?\n",
      "\n",
      "[Verse 3]\n",
      "The gloved hand's reachin' in to hit the switch\n",
      "There's not one goddamn thing that you can do about it\n",
      "\n",
      "[Chorus]\n",
      "Mr. Schwartz is havin' tea with the grips\n",
      "Askin' after all the wives and the kids\n",
      "It's at the heart of what the business is\n",
      "\n"
     ]
    }
   ],
   "source": [
    "append_to_file(file_path, rest_of_the_song)\n",
    "\n",
    "print(\"O arquivo após a adição é:\\n\")\n",
    "print_file(file_path)"
   ]
  }
 ],
 "metadata": {
  "kernelspec": {
   "display_name": "alg-ii",
   "language": "python",
   "name": "python3"
  },
  "language_info": {
   "codemirror_mode": {
    "name": "ipython",
    "version": 3
   },
   "file_extension": ".py",
   "mimetype": "text/x-python",
   "name": "python",
   "nbconvert_exporter": "python",
   "pygments_lexer": "ipython3",
   "version": "3.12.0"
  }
 },
 "nbformat": 4,
 "nbformat_minor": 2
}
