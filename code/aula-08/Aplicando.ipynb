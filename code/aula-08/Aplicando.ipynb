{
 "cells": [
  {
   "cell_type": "markdown",
   "metadata": {},
   "source": [
    "# Exception handling - Aula 8\n",
    "\n",
    "## Aplicando\n",
    "\n",
    "Desenvolva um programa em Python que peça para o usuário entrar com dois números inteiros.\n",
    "\n",
    "Calcule e mostre o resultado da divisão do primeiro pelo segundo, caso não haja erro. O programa não deve continuar se houver algum erro.\n",
    "\n",
    "Atenção, use o controle de exceção (`try`-`except` nas leituras – `ValueError` – e controle da divisão por zero – `ZeroDivisionError`).\n"
   ]
  },
  {
   "cell_type": "markdown",
   "metadata": {},
   "source": [
    "## Resposta\n"
   ]
  },
  {
   "cell_type": "code",
   "execution_count": 10,
   "metadata": {},
   "outputs": [],
   "source": [
    "from numbers import Number\n",
    "\n",
    "\n",
    "def read_numbers() -> (Number, Number):\n",
    "        num1 = int(input(\"Digite o primeiro número: \"))\n",
    "        num2 = int(input(\"Digite o segundo número: \"))\n",
    "        return num1, num2\n",
    "\n",
    "\n",
    "def divide(a: Number, b: Number) -> Number:\n",
    "        result = a / b\n",
    "        return result\n",
    "\n",
    "def read_and_divide() -> Number:\n",
    "    try:\n",
    "        a, b = read_numbers()\n",
    "        result = divide(a, b)\n",
    "        return result\n",
    "        \n",
    "    except ValueError:\n",
    "        print(\"Erro: Entre números inteiros válidos.\")\n",
    "        return None\n",
    "    \n",
    "    except ZeroDivisionError:\n",
    "        print(\"Erro: O segundo número não pode ser zero.\")\n",
    "        return None"
   ]
  },
  {
   "cell_type": "markdown",
   "metadata": {},
   "source": [
    "## Testes\n"
   ]
  },
  {
   "cell_type": "code",
   "execution_count": 11,
   "metadata": {},
   "outputs": [
    {
     "data": {
      "text/plain": [
       "1.0"
      ]
     },
     "execution_count": 11,
     "metadata": {},
     "output_type": "execute_result"
    }
   ],
   "source": [
    "# Entra com 10 e 10\n",
    "read_and_divide()"
   ]
  },
  {
   "cell_type": "code",
   "execution_count": 12,
   "metadata": {},
   "outputs": [
    {
     "name": "stdout",
     "output_type": "stream",
     "text": [
      "Erro: Entre números inteiros válidos.\n"
     ]
    }
   ],
   "source": [
    "# Entra com 1.1 e 0.5\n",
    "read_and_divide()"
   ]
  },
  {
   "cell_type": "code",
   "execution_count": 13,
   "metadata": {},
   "outputs": [
    {
     "name": "stdout",
     "output_type": "stream",
     "text": [
      "Erro: O segundo número não pode ser zero.\n"
     ]
    }
   ],
   "source": [
    "# Entra com 10 e 0\n",
    "read_and_divide()"
   ]
  }
 ],
 "metadata": {
  "kernelspec": {
   "display_name": "alg-ii",
   "language": "python",
   "name": "python3"
  },
  "language_info": {
   "codemirror_mode": {
    "name": "ipython",
    "version": 3
   },
   "file_extension": ".py",
   "mimetype": "text/x-python",
   "name": "python",
   "nbconvert_exporter": "python",
   "pygments_lexer": "ipython3",
   "version": "3.12.0"
  }
 },
 "nbformat": 4,
 "nbformat_minor": 2
}
